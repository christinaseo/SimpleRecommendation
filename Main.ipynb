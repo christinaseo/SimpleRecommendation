{
 "cells": [
  {
   "cell_type": "markdown",
   "metadata": {},
   "source": [
    "# Simple Recommendation"
   ]
  },
  {
   "cell_type": "code",
   "execution_count": 5,
   "metadata": {},
   "outputs": [],
   "source": [
    "import re\n",
    "import numpy as np"
   ]
  },
  {
   "cell_type": "code",
   "execution_count": 10,
   "metadata": {},
   "outputs": [
    {
     "ename": "SyntaxError",
     "evalue": "invalid syntax (<ipython-input-10-c1a23cf47241>, line 14)",
     "output_type": "error",
     "traceback": [
      "\u001b[0;36m  File \u001b[0;32m\"<ipython-input-10-c1a23cf47241>\"\u001b[0;36m, line \u001b[0;32m14\u001b[0m\n\u001b[0;31m    for line in lines\u001b[0m\n\u001b[0m                     ^\u001b[0m\n\u001b[0;31mSyntaxError\u001b[0m\u001b[0;31m:\u001b[0m invalid syntax\n"
     ]
    }
   ],
   "source": [
    "#Import and parse .dat file \n",
    "\n",
    "def parse(line):\n",
    "    tempList={}\n",
    "    #reg_match=_RegExLib(line)\n",
    "    #parse each line and return the values split up\n",
    "    (line.splip().split('::'), tempList)\n",
    "    return tempList\n",
    "\n",
    "movies= np.zeros((3952,1))\n",
    "# First import the movie titles and store\n",
    "with open('movies.dat') as m:\n",
    "    lines = m.readlines()\n",
    "    for line in lines\n",
    "        list = parse(line)\n",
    "        #store in movies \n",
    "        movies[tempList[0]-1] = tempList[1]\n",
    "        \n",
    "ratings = np.zeros((6040,3952))\n",
    "#Do the same for ratings\n",
    "with open('ratings.dat') as r:\n",
    "    lines = r.readlines()\n",
    "    for line in lines\n",
    "        parse(line)\n",
    "        #store in ratings \n",
    "        ratings[tempList[0]-1][tempList[1]-1] = tempList[2]\n",
    "        \n",
    "#User demographics is out of the scope of the project, will ignore "
   ]
  },
  {
   "cell_type": "code",
   "execution_count": 9,
   "metadata": {},
   "outputs": [
    {
     "ename": "NameError",
     "evalue": "name 'ratings' is not defined",
     "output_type": "error",
     "traceback": [
      "\u001b[0;31m---------------------------------------------------------------------------\u001b[0m",
      "\u001b[0;31mNameError\u001b[0m                                 Traceback (most recent call last)",
      "\u001b[0;32m<ipython-input-9-d3c1495b3984>\u001b[0m in \u001b[0;36m<module>\u001b[0;34m()\u001b[0m\n\u001b[1;32m      7\u001b[0m \u001b[0msimilarity\u001b[0m\u001b[0;34m=\u001b[0m \u001b[0mnp\u001b[0m\u001b[0;34m.\u001b[0m\u001b[0mzeros\u001b[0m\u001b[0;34m(\u001b[0m\u001b[0;34m(\u001b[0m\u001b[0;36m6040\u001b[0m\u001b[0;34m,\u001b[0m\u001b[0;36m6040\u001b[0m\u001b[0;34m)\u001b[0m\u001b[0;34m)\u001b[0m\u001b[0;34m\u001b[0m\u001b[0m\n\u001b[1;32m      8\u001b[0m \u001b[0;34m\u001b[0m\u001b[0m\n\u001b[0;32m----> 9\u001b[0;31m \u001b[0msimilarity\u001b[0m \u001b[0;34m=\u001b[0m \u001b[0mnp\u001b[0m\u001b[0;34m.\u001b[0m\u001b[0mcorrcoef\u001b[0m\u001b[0;34m(\u001b[0m\u001b[0mratings\u001b[0m\u001b[0;34m,\u001b[0m \u001b[0mnp\u001b[0m\u001b[0;34m.\u001b[0m\u001b[0mtranspose\u001b[0m\u001b[0;34m(\u001b[0m\u001b[0mratings\u001b[0m\u001b[0;34m)\u001b[0m\u001b[0;34m)\u001b[0m\u001b[0;34m\u001b[0m\u001b[0m\n\u001b[0m",
      "\u001b[0;31mNameError\u001b[0m: name 'ratings' is not defined"
     ]
    }
   ],
   "source": [
    "#Create similarity matrix - will be a square matrix of 6040x6040\n",
    "#CORRELATION COEFFICIENT? calc. line for each person and see if positive or negative correlation with each other person\n",
    "#Similarity will be abs value of that correlation coefficient\n",
    "\n",
    "## or you can do 100 - the absolute value of the difference between the two people\n",
    "\n",
    "similarity= np.zeros((6040,6040))\n",
    "\n",
    "similarity = np.corrcoef(ratings, np.transpose(ratings))                            "
   ]
  },
  {
   "cell_type": "code",
   "execution_count": null,
   "metadata": {},
   "outputs": [],
   "source": [
    "#Normalize and dot product - if using correlation coefficient, no need to normalize by length\n",
    "\n",
    "#for all rows in similarity\n",
    "pRatings = (np.dot(similarity[i][:], ratings[:][:]) / np.abs(np.count_nonzero(ratings,axis=1))"
   ]
  },
  {
   "cell_type": "code",
   "execution_count": null,
   "metadata": {},
   "outputs": [],
   "source": [
    "#Sort list and recommend based on highest score\n",
    "\n",
    "#for all rows, return the index where the max value occurs, and was originally 0 in the ratings matrix\n",
    "#match the name of the movie with the movies array, and store this in a new matrix\n",
    "\n",
    "for \n",
    "recommended[user] =  "
   ]
  }
 ],
 "metadata": {
  "kernelspec": {
   "display_name": "Python 3",
   "language": "python",
   "name": "python3"
  },
  "language_info": {
   "codemirror_mode": {
    "name": "ipython",
    "version": 3
   },
   "file_extension": ".py",
   "mimetype": "text/x-python",
   "name": "python",
   "nbconvert_exporter": "python",
   "pygments_lexer": "ipython3",
   "version": "3.6.5"
  }
 },
 "nbformat": 4,
 "nbformat_minor": 2
}
