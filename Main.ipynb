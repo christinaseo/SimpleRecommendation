{
 "cells": [
  {
   "cell_type": "markdown",
   "metadata": {},
   "source": [
    "# Simple Recommendation"
   ]
  },
  {
   "cell_type": "code",
   "execution_count": null,
   "metadata": {},
   "outputs": [],
   "source": [
    "import re"
   ]
  },
  {
   "cell_type": "code",
   "execution_count": null,
   "metadata": {},
   "outputs": [],
   "source": [
    "#Import and parse .dat file \n",
    "\n",
    "def parse(line):\n",
    "    tempList={}\n",
    "    #reg_match=_RegExLib(line)\n",
    "    #parse each line and return the values split up\n",
    "    (line.splip().split('::'), tempList)\n",
    "    return tempList\n",
    "\n",
    "movies[3952][1] = zeros(3952,1)\n",
    "# First import the movie titles and store\n",
    "with open('movies.dat') as m:\n",
    "    for line in m\n",
    "        list = parse(line)\n",
    "        #store in movies \n",
    "        movies[tempList[0]-1] = tempList[1]\n",
    "        \n",
    "ratings[6040][3052] = zeros(6040,3052)\n",
    "#Do the same for ratings\n",
    "with open('ratings.dat') as r:\n",
    "    for line in r\n",
    "        parse(line)\n",
    "        #store in ratings \n",
    "        ratings[tempList[0]-1][tempList[1]-1] = tempList[2]\n",
    "        \n",
    "#User demographics is out of the scope of the project, will ignore "
   ]
  },
  {
   "cell_type": "code",
   "execution_count": 4,
   "metadata": {},
   "outputs": [],
   "source": [
    "#Create similarity matrix - will be a square matrix of 6040x6040\n",
    "#CORRELATION COEFFICIENT? calc. line for each person and see if positive or negative correlation with each other person\n",
    "#Similarity will be abs value of that correlation coefficient\n",
    "\n",
    "## or you can do 100 - the absolute value of the difference between the two people\n",
    "\n",
    "similarity[6040][6040] = {}\n",
    "\n",
    "\n",
    "                            "
   ]
  },
  {
   "cell_type": "code",
   "execution_count": null,
   "metadata": {},
   "outputs": [],
   "source": [
    "#Normalize and dot product - if using correlation coefficient, no need to normalize by length"
   ]
  },
  {
   "cell_type": "code",
   "execution_count": null,
   "metadata": {},
   "outputs": [],
   "source": [
    "#Sort list and recommend based on highest score"
   ]
  }
 ],
 "metadata": {
  "kernelspec": {
   "display_name": "Python 3",
   "language": "python",
   "name": "python3"
  },
  "language_info": {
   "codemirror_mode": {
    "name": "ipython",
    "version": 3
   },
   "file_extension": ".py",
   "mimetype": "text/x-python",
   "name": "python",
   "nbconvert_exporter": "python",
   "pygments_lexer": "ipython3",
   "version": "3.6.5"
  }
 },
 "nbformat": 4,
 "nbformat_minor": 2
}
