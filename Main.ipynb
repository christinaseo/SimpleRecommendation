{
 "cells": [
  {
   "cell_type": "markdown",
   "metadata": {},
   "source": [
    "# Simple Recommendation"
   ]
  },
  {
   "cell_type": "code",
   "execution_count": 1,
   "metadata": {},
   "outputs": [],
   "source": [
    "import re\n",
    "import numpy as np"
   ]
  },
  {
   "cell_type": "code",
   "execution_count": 8,
   "metadata": {},
   "outputs": [
    {
     "name": "stdout",
     "output_type": "stream",
     "text": [
      "Done\n"
     ]
    }
   ],
   "source": [
    "#Import and parse .dat file \n",
    "\n",
    "def parse(line):\n",
    "    tempList=np.chararray((3, 1))\n",
    "    #reg_match=_RegExLib(line)\n",
    "    #parse each line and return the values split up\n",
    "    sline = str(line.decode())\n",
    "    #print(sline)\n",
    "    tempList = (sline.split(\"::\")) ##not storing the values properly\n",
    "    return tempList\n",
    "\n",
    "movies= np.chararray((3952, 1), itemsize = 100)\n",
    "#movies = []\n",
    "# First import the movie titles and store\n",
    "with open('movies.dat','r',encoding = \"ISO-8859-1\") as m:\n",
    "    ##lines = m.readlines()\n",
    "    for line in m:\n",
    "        list = parse(line.encode('utf-8').strip())\n",
    "        #store in movies \n",
    "        #print(list[0])\n",
    "        #print(list[1])\n",
    "        movies[int(list[0])-1] = list[1].encode('utf-8')\n",
    "        #movies.append(list[1])\n",
    "        #print (movies[0].decode('utf-8'))\n",
    "        #print(movies[1].decode('utf-8'))\n",
    "    \n",
    "        \n",
    "ratings = np.zeros((6040,3952))\n",
    "ratings[:]=\"0\"\n",
    "#Do the same for ratings\n",
    "with open('ratings.dat','r',encoding = \"ISO-8859-1\") as r:\n",
    "    ##lines = r.readlines()\n",
    "    for line in r:\n",
    "        list = parse(line.encode('utf-8').strip())\n",
    "        #store in ratings \n",
    "        ratings[int(list[0])-1][int(list[1])-1] = int(list[2])\n",
    "        \n",
    "#User demographics is out of the scope of the project, will ignore \n",
    "#print(ratings)\n",
    "#print(ratings[0][1192])\n",
    "print(\"Done\")"
   ]
  },
  {
   "cell_type": "code",
   "execution_count": 9,
   "metadata": {},
   "outputs": [
    {
     "name": "stdout",
     "output_type": "stream",
     "text": [
      "Done\n"
     ]
    }
   ],
   "source": [
    "#Create similarity matrix - will be a square matrix of 6040x6040\n",
    "#CORRELATION COEFFICIENT? calc. line for each person and see if positive or negative correlation with each other person\n",
    "#Similarity will be abs value of that correlation coefficient\n",
    "\n",
    "## or you can do 100 - the absolute value of the difference between the two people\n",
    "\n",
    "similarity= np.zeros((6040,6040))\n",
    "\n",
    "#print(np.shape(similarity))\n",
    "\n",
    "similarity = np.corrcoef(ratings,(ratings))     \n",
    "similarity = similarity[0:6040,0:6040]\n",
    "#print('Hi')\n",
    "#print((similarity))\n",
    "print(\"Done\")"
   ]
  },
  {
   "cell_type": "code",
   "execution_count": 4,
   "metadata": {},
   "outputs": [],
   "source": [
    "#Make a binary rating matrix\n",
    "binRatings = np.zeros((6040,3952))\n",
    "binRatings[ratings>=1]=1\n",
    "binRatings = np.transpose(binRatings)\n",
    "#print(binRatings)"
   ]
  },
  {
   "cell_type": "code",
   "execution_count": 5,
   "metadata": {},
   "outputs": [],
   "source": [
    "def findTitle(index):\n",
    "    return movies[index]"
   ]
  },
  {
   "cell_type": "code",
   "execution_count": 6,
   "metadata": {},
   "outputs": [
    {
     "name": "stderr",
     "output_type": "stream",
     "text": [
      "/Library/Frameworks/Python.framework/Versions/3.6/lib/python3.6/site-packages/ipykernel_launcher.py:14: RuntimeWarning: invalid value encountered in true_divide\n",
      "  \n"
     ]
    }
   ],
   "source": [
    "#Normalize and dot product\n",
    "predRatings = np.array((6040,3952))\n",
    "#for all rows in similarity\n",
    "\n",
    "recommendations = np.chararray((6040,1),itemsize = 100)\n",
    "s = 0\n",
    "for i in range(0,6040):\n",
    "    pRatings = (np.dot(similarity[i][:], ratings))\n",
    "    #print(np.shape(pRatings))\n",
    "    totals = (np.sum(np.abs(similarity[i][:]*binRatings[:][:]),axis = 1))\n",
    "    #print(np.shape(totals))\n",
    "    #print(pRatings)\n",
    "    #print(totals)\n",
    "    pRatings = np.divide(pRatings,totals)\n",
    "    #np.abs(np.sum(similarity[0][:]*binRatings[:][:]))\n",
    "    #predRatings[i][:] = pRatings\n",
    "    \n",
    "    #find max value for each person\n",
    "    maxValIndex = np.argmax(pRatings)\n",
    "    #print(maxValIndex)\n",
    "    #find the corresponding movie title\n",
    "    rTitle = movies[maxValIndex]\n",
    "    #print(rTitle)\n",
    "    #Store in a recommendations matrix\n",
    "    recommendations[s] = rTitle.decode('utf-8')\n",
    "    #print(recommendations[s].decode('utf-8'))\n",
    "    s = s+1"
   ]
  },
  {
   "cell_type": "code",
   "execution_count": null,
   "metadata": {},
   "outputs": [],
   "source": []
  }
 ],
 "metadata": {
  "kernelspec": {
   "display_name": "Python 3",
   "language": "python",
   "name": "python3"
  },
  "language_info": {
   "codemirror_mode": {
    "name": "ipython",
    "version": 3
   },
   "file_extension": ".py",
   "mimetype": "text/x-python",
   "name": "python",
   "nbconvert_exporter": "python",
   "pygments_lexer": "ipython3",
   "version": "3.6.5"
  }
 },
 "nbformat": 4,
 "nbformat_minor": 2
}
