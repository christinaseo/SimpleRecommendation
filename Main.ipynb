{
 "cells": [
  {
   "cell_type": "markdown",
   "metadata": {},
   "source": [
    "# Simple Recommendation"
   ]
  },
  {
   "cell_type": "code",
   "execution_count": 10,
   "metadata": {},
   "outputs": [
    {
     "data": {
      "text/plain": [
       "{'divide': 'warn', 'over': 'warn', 'under': 'ignore', 'invalid': 'warn'}"
      ]
     },
     "execution_count": 10,
     "metadata": {},
     "output_type": "execute_result"
    }
   ],
   "source": [
    "import re\n",
    "import numpy as np\n",
    "np.seterr(divide='ignore', invalid='ignore')"
   ]
  },
  {
   "cell_type": "code",
   "execution_count": 9,
   "metadata": {},
   "outputs": [
    {
     "name": "stdout",
     "output_type": "stream",
     "text": [
      "[[5. 0. 0. ... 0. 0. 0.]\n",
      " [0. 0. 0. ... 0. 0. 0.]\n",
      " [0. 0. 0. ... 0. 0. 0.]\n",
      " ...\n",
      " [0. 0. 0. ... 0. 0. 0.]\n",
      " [0. 0. 0. ... 0. 0. 0.]\n",
      " [3. 0. 0. ... 0. 0. 0.]]\n"
     ]
    }
   ],
   "source": [
    "#Import and parse .dat file \n",
    "\n",
    "def parse(line):\n",
    "    tempList=np.chararray((3, 1))\n",
    "    #reg_match=_RegExLib(line)\n",
    "    #parse each line and return the values split up\n",
    "    sline = str(line.decode())\n",
    "    #print(sline)\n",
    "    tempList = (sline.split(\"::\")) ##not storing the values properly\n",
    "    return tempList\n",
    "\n",
    "movies= np.chararray((3952, 1), itemsize = 100)\n",
    "#movies = []\n",
    "# First import the movie titles and store\n",
    "with open('movies.dat','r',encoding = \"ISO-8859-1\") as m:\n",
    "    ##lines = m.readlines()\n",
    "    for line in m:\n",
    "        list = parse(line.encode('utf-8').strip())\n",
    "        #store in movies \n",
    "        #print(list[0])\n",
    "        #print(list[1])\n",
    "        movies[int(list[0])-1] = list[1].encode('utf-8')\n",
    "        #movies.append(list[1])\n",
    "        #print (movies[0].decode('utf-8'))\n",
    "        #print(movies[1].decode('utf-8'))\n",
    "    \n",
    "        \n",
    "ratings = np.zeros((6040,3952))\n",
    "ratings[:]=\"0\"\n",
    "#Do the same for ratings\n",
    "with open('ratings.dat','r',encoding = \"ISO-8859-1\") as r:\n",
    "    ##lines = r.readlines()\n",
    "    for line in r:\n",
    "        list = parse(line.encode('utf-8').strip())\n",
    "        #store in ratings \n",
    "        ratings[int(list[0])-1][int(list[1])-1] = int(list[2])\n",
    "        \n",
    "#User demographics is out of the scope of the project, will ignore \n",
    "#print(ratings)\n",
    "#print(ratings[0][1192])"
   ]
  },
  {
   "cell_type": "code",
   "execution_count": 3,
   "metadata": {},
   "outputs": [],
   "source": [
    "#Create similarity matrix - will be a square matrix of 6040x6040\n",
    "#CORRELATION COEFFICIENT? calc. line for each person and see if positive or negative correlation with each other person\n",
    "#Similarity will be abs value of that correlation coefficient\n",
    "\n",
    "## or you can do 100 - the absolute value of the difference between the two people\n",
    "\n",
    "similarity= np.zeros((6040,6040))\n",
    "\n",
    "#print(np.shape(similarity))\n",
    "\n",
    "similarity = np.corrcoef(ratings,(ratings))     \n",
    "similarity = similarity[0:6040,0:6040]\n",
    "#print((similarity))"
   ]
  },
  {
   "cell_type": "code",
   "execution_count": 4,
   "metadata": {},
   "outputs": [],
   "source": [
    "#Make a binary rating matrix\n",
    "binRatings = np.zeros((6040,3952))\n",
    "binRatings[ratings>=1]=1\n",
    "binRatings = np.transpose(binRatings)\n",
    "#print(binRatings)"
   ]
  },
  {
   "cell_type": "code",
   "execution_count": 11,
   "metadata": {},
   "outputs": [
    {
     "name": "stdout",
     "output_type": "stream",
     "text": [
      "['Guardian Angel (1994)']\n",
      "['Guardian Angel (1994)']\n",
      "['Guardian Angel (1994)']\n",
      "['Guardian Angel (1994)']\n",
      "['Guardian Angel (1994)']\n",
      "['Guardian Angel (1994)']\n"
     ]
    },
    {
     "ename": "KeyboardInterrupt",
     "evalue": "",
     "output_type": "error",
     "traceback": [
      "\u001b[0;31m---------------------------------------------------------------------------\u001b[0m",
      "\u001b[0;31mKeyboardInterrupt\u001b[0m                         Traceback (most recent call last)",
      "\u001b[0;32m<ipython-input-11-d26e14d4a588>\u001b[0m in \u001b[0;36m<module>\u001b[0;34m()\u001b[0m\n\u001b[1;32m      8\u001b[0m     \u001b[0mpRatings\u001b[0m \u001b[0;34m=\u001b[0m \u001b[0;34m(\u001b[0m\u001b[0mnp\u001b[0m\u001b[0;34m.\u001b[0m\u001b[0mdot\u001b[0m\u001b[0;34m(\u001b[0m\u001b[0msimilarity\u001b[0m\u001b[0;34m[\u001b[0m\u001b[0mi\u001b[0m\u001b[0;34m]\u001b[0m\u001b[0;34m[\u001b[0m\u001b[0;34m:\u001b[0m\u001b[0;34m]\u001b[0m\u001b[0;34m,\u001b[0m \u001b[0mratings\u001b[0m\u001b[0;34m)\u001b[0m\u001b[0;34m)\u001b[0m\u001b[0;34m\u001b[0m\u001b[0m\n\u001b[1;32m      9\u001b[0m     \u001b[0;31m#print(np.shape(pRatings))\u001b[0m\u001b[0;34m\u001b[0m\u001b[0;34m\u001b[0m\u001b[0m\n\u001b[0;32m---> 10\u001b[0;31m     \u001b[0mtotals\u001b[0m \u001b[0;34m=\u001b[0m \u001b[0;34m(\u001b[0m\u001b[0mnp\u001b[0m\u001b[0;34m.\u001b[0m\u001b[0msum\u001b[0m\u001b[0;34m(\u001b[0m\u001b[0mnp\u001b[0m\u001b[0;34m.\u001b[0m\u001b[0mabs\u001b[0m\u001b[0;34m(\u001b[0m\u001b[0msimilarity\u001b[0m\u001b[0;34m[\u001b[0m\u001b[0mi\u001b[0m\u001b[0;34m]\u001b[0m\u001b[0;34m[\u001b[0m\u001b[0;34m:\u001b[0m\u001b[0;34m]\u001b[0m\u001b[0;34m*\u001b[0m\u001b[0mbinRatings\u001b[0m\u001b[0;34m[\u001b[0m\u001b[0;34m:\u001b[0m\u001b[0;34m]\u001b[0m\u001b[0;34m[\u001b[0m\u001b[0;34m:\u001b[0m\u001b[0;34m]\u001b[0m\u001b[0;34m)\u001b[0m\u001b[0;34m,\u001b[0m\u001b[0maxis\u001b[0m \u001b[0;34m=\u001b[0m \u001b[0;36m1\u001b[0m\u001b[0;34m)\u001b[0m\u001b[0;34m)\u001b[0m\u001b[0;34m\u001b[0m\u001b[0m\n\u001b[0m\u001b[1;32m     11\u001b[0m     \u001b[0;31m#print(np.shape(totals))\u001b[0m\u001b[0;34m\u001b[0m\u001b[0;34m\u001b[0m\u001b[0m\n\u001b[1;32m     12\u001b[0m     \u001b[0;31m#print(pRatings)\u001b[0m\u001b[0;34m\u001b[0m\u001b[0;34m\u001b[0m\u001b[0m\n",
      "\u001b[0;31mKeyboardInterrupt\u001b[0m: "
     ]
    }
   ],
   "source": [
    "#Normalize and dot product\n",
    "predRatings = np.array((6040,3952))\n",
    "#for all rows in similarity\n",
    "\n",
    "recommendations = np.chararray((6040,1),itemsize = 100)\n",
    "s = 0\n",
    "for i in range(0,6040):\n",
    "    pRatings = (np.dot(similarity[i][:], ratings))\n",
    "    #print(np.shape(pRatings))\n",
    "    totals = (np.sum(np.abs(similarity[i][:]*binRatings[:][:]),axis = 1))\n",
    "    #print(np.shape(totals))\n",
    "    #print(pRatings)\n",
    "    #print(totals)\n",
    "    pRatings = np.divide(pRatings,totals)\n",
    "    #np.abs(np.sum(similarity[0][:]*binRatings[:][:]))\n",
    "    #predRatings[i][:] = pRatings\n",
    "    \n",
    "    #find max value for each person\n",
    "    maxValIndex = np.argmax(pRatings)\n",
    "    #print(maxValIndex)\n",
    "    #find the corresponding movie title\n",
    "    rTitle = movies[maxValIndex]\n",
    "    #print(rTitle)\n",
    "    #Store in a recommendations matrix\n",
    "    recommendations[s] = rTitle.decode('utf-8')\n",
    "    print(recommendations[s].decode('utf-8'))\n",
    "    s = s+1"
   ]
  },
  {
   "cell_type": "code",
   "execution_count": null,
   "metadata": {},
   "outputs": [],
   "source": []
  }
 ],
 "metadata": {
  "kernelspec": {
   "display_name": "Python 3",
   "language": "python",
   "name": "python3"
  },
  "language_info": {
   "codemirror_mode": {
    "name": "ipython",
    "version": 3
   },
   "file_extension": ".py",
   "mimetype": "text/x-python",
   "name": "python",
   "nbconvert_exporter": "python",
   "pygments_lexer": "ipython3",
   "version": "3.6.5"
  }
 },
 "nbformat": 4,
 "nbformat_minor": 2
}
