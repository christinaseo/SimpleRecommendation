{
 "cells": [
  {
   "cell_type": "markdown",
   "metadata": {},
   "source": [
    "# Simple Recommendation"
   ]
  },
  {
   "cell_type": "code",
   "execution_count": 101,
   "metadata": {},
   "outputs": [],
   "source": [
    "import re\n",
    "import numpy as np"
   ]
  },
  {
   "cell_type": "code",
   "execution_count": 102,
   "metadata": {},
   "outputs": [],
   "source": [
    "#Import and parse .dat file \n",
    "\n",
    "def parse(line):\n",
    "    tempList=np.chararray((3, 1))\n",
    "    #reg_match=_RegExLib(line)\n",
    "    #parse each line and return the values split up\n",
    "    sline = \"\".join(map(chr, line))\n",
    "    tempList = (sline.split(\"::\")) ##not storing the values properly\n",
    "    return tempList\n",
    "\n",
    "#movies= np.chararray((3952, 1))\n",
    "#movies[:]=\"0\"\n",
    "# First import the movie titles and store\n",
    "#with open('movies.dat','r',encoding = \"ISO-8859-1\") as m:\n",
    "    ##lines = m.readlines()\n",
    "#    for line in m:\n",
    "#        list = parse(line.encode('utf-8').strip())\n",
    "        #store in movies \n",
    "#        movies[int(list[0])-1] = list[1]\n",
    "        \n",
    "ratings = np.zeros((6040,3952))\n",
    "ratings[:]=\"0\"\n",
    "#Do the same for ratings\n",
    "with open('ratings.dat','r',encoding = \"ISO-8859-1\") as r:\n",
    "    ##lines = r.readlines()\n",
    "    for line in r:\n",
    "        list = parse(line.encode('utf-8').strip())\n",
    "        #store in ratings \n",
    "        ratings[int(list[0])-1][int(list[1])-1] = int(list[2])\n",
    "        \n",
    "#User demographics is out of the scope of the project, will ignore \n",
    "#print(ratings)\n",
    "#print(ratings[0][1192])"
   ]
  },
  {
   "cell_type": "code",
   "execution_count": 103,
   "metadata": {},
   "outputs": [],
   "source": [
    "#Create similarity matrix - will be a square matrix of 6040x6040\n",
    "#CORRELATION COEFFICIENT? calc. line for each person and see if positive or negative correlation with each other person\n",
    "#Similarity will be abs value of that correlation coefficient\n",
    "\n",
    "## or you can do 100 - the absolute value of the difference between the two people\n",
    "\n",
    "similarity= np.zeros((6040,6040))\n",
    "\n",
    "#print(np.shape(similarity))\n",
    "\n",
    "similarity = np.corrcoef(ratings,(ratings))     \n",
    "similarity = similarity[0:6040,0:6040]\n",
    "#print('Hi')\n",
    "#print((similarity))"
   ]
  },
  {
   "cell_type": "code",
   "execution_count": 104,
   "metadata": {},
   "outputs": [],
   "source": [
    "#Make a binary rating matrix\n",
    "binRatings = np.zeros((6040,3952))\n",
    "binRatings[ratings>=1]=1\n",
    "binRatings = np.transpose(binRatings)\n",
    "#print(binRatings)"
   ]
  },
  {
   "cell_type": "code",
   "execution_count": 106,
   "metadata": {},
   "outputs": [
    {
     "name": "stdout",
     "output_type": "stream",
     "text": [
      "[1255.65782272  296.13530443  167.75655415 ...   22.9664621    13.93662846\n",
      "  156.29201092]\n",
      "[296.82061006  92.75722399  55.21909635 ...   6.0359436    3.49703898\n",
      "  41.01258966]\n",
      "[4.23035928 3.19258481 3.03801701 ... 3.80494975 3.98526541 3.81083009]\n",
      "Hello\n"
     ]
    },
    {
     "name": "stderr",
     "output_type": "stream",
     "text": [
      "/Library/Frameworks/Python.framework/Versions/3.6/lib/python3.6/site-packages/ipykernel_launcher.py:13: RuntimeWarning: invalid value encountered in true_divide\n",
      "  del sys.path[0]\n"
     ]
    },
    {
     "name": "stdout",
     "output_type": "stream",
     "text": [
      "[1330.07906792  369.21946937  224.27208639 ...   31.12437449   15.67677555\n",
      "  219.71991226]\n",
      "[320.3662101  116.30354186  75.38449104 ...   8.23507267   3.99346165\n",
      "  57.81979359]\n",
      "[4.1517458  3.17461931 2.97504279 ... 3.77948996 3.92561064 3.80008123]\n",
      "Hello\n",
      "[1288.41977715  351.01878149  199.62052059 ...   25.76374199   11.75678278\n",
      "  167.28445824]\n",
      "[308.91738925 110.0614918   66.31730176 ...   6.77417799   2.99789336\n",
      "  44.33585426]\n",
      "[4.17075834 3.18929696 3.01008206 ... 3.80322779 3.92168145 3.77311909]\n",
      "Hello\n",
      "[929.40823211 265.9176038  130.64229122 ...  21.07948797   9.26330448\n",
      " 130.5769572 ]\n",
      "[223.45183419  84.28790592  44.21189272 ...   5.48798286   2.3522136\n",
      "  34.70063165]\n",
      "[4.15932246 3.15487259 2.95491288 ... 3.84102657 3.93812215 3.76295621]\n",
      "Hello\n",
      "[1091.86275338  246.2191881   156.28607961 ...   30.24110779   21.01313446\n",
      "  213.80600907]\n",
      "[264.39480162  80.12366234  53.74406502 ...   8.1612586    5.41424615\n",
      "  56.56059274]\n",
      "[4.12966801 3.07298969 2.90796909 ... 3.70544658 3.88108222 3.7801232 ]\n",
      "Hello\n",
      "[778.61661414 200.95481909 136.62033438 ...  15.12207252  10.62490445\n",
      " 114.27961033]\n",
      "[184.34960545  62.1133416   44.56746072 ...   3.93224197   2.72510373\n",
      "  29.77618207]\n",
      "[4.22358709 3.23529235 3.06547271 ... 3.84566174 3.8988991  3.83795377]\n",
      "Hello\n",
      "[1123.8080267   337.78786951  195.55765919 ...   24.12284479   10.89291904\n",
      "  183.62317476]\n",
      "[269.44319069 105.72743786  65.0273252  ...   6.36033157   2.82597264\n",
      "  48.08108373]\n",
      "[4.17085332 3.19489317 3.00731513 ... 3.7927024  3.85457342 3.81903153]\n",
      "Hello\n",
      "[1143.02914947  287.43075944  198.22814457 ...   29.59837525   18.37290375\n",
      "  214.78233677]\n",
      "[275.67945192  91.72404113  67.15064366 ...   7.87490616   4.83294724\n",
      "  56.7287549 ]\n",
      "[4.14622541 3.13364693 2.95199173 ... 3.75856863 3.80159411 3.78612817]\n",
      "Hello\n",
      "[1659.54243217  377.53750342  243.55624741 ...   40.53733769   24.17645422\n",
      "  289.41008559]\n",
      "[398.11769439 120.651473    81.6212429  ...  10.68744581   6.12861009\n",
      "  75.75676513]\n",
      "[4.16847193 3.12915785 2.98398112 ... 3.7929865  3.94485109 3.82025401]\n",
      "Hello\n",
      "[1968.68509542  591.36318667  330.0849     ...   40.57241753   19.91028363\n",
      "  260.0232897 ]\n",
      "[470.21339104 184.12769272 110.05380466 ...  10.6273933    5.21085515\n",
      "  68.74722161]\n",
      "[4.18679079 3.2117015  2.99930476 ... 3.81772053 3.82092441 3.7823098 ]\n",
      "Hello\n",
      "[1357.65285177  313.53311672  223.53948284 ...   31.07830957   17.86231245\n",
      "  217.12482978]\n",
      "[328.39937031 100.83315155  74.53613184 ...   8.23250808   4.69185676\n",
      "  57.34906242]\n",
      "[4.13415181 3.10942494 2.99907545 ... 3.77507186 3.80708819 3.78602231]\n",
      "Hello\n",
      "[675.52886697 152.32936725  88.54399827 ...  20.89219221  12.12811695\n",
      " 130.55696287]\n",
      "[162.75743679  49.82604694  30.42660182 ...   5.64544237   2.95025972\n",
      "  34.80903669]\n",
      "[4.15052535 3.05722361 2.91008502 ... 3.70071836 4.11086416 3.75066291]\n",
      "Hello\n",
      "[1496.94308024  507.44756998  247.41441284 ...   30.91106625   13.67297825\n",
      "  215.862304  ]\n",
      "[358.86051803 157.54086673  82.68985134 ...   8.03516476   3.52989123\n",
      "  56.71851165]\n",
      "[4.17137859 3.22105356 2.99207713 ... 3.84697354 3.8734843  3.80585276]\n",
      "Hello\n",
      "[713.61746376 156.85860592 101.76773037 ...  18.60785025  13.28529051\n",
      " 138.40457077]\n",
      "[173.5591564   50.93795245  34.3813145  ...   4.90632406   3.29798583\n",
      "  36.30492429]\n",
      "[4.11166705 3.0794054  2.95997206 ... 3.79262561 4.02830431 3.81228094]\n",
      "Hello\n",
      "[1554.66051716  440.47507687  285.59145099 ...   37.94009851   20.66970602\n",
      "  282.68329199]\n",
      "[374.94922982 139.03678178  94.02933458 ...  10.03653739   5.34177324\n",
      "  73.86785229]\n",
      "[4.14632274 3.16804713 3.03725909 ... 3.78019799 3.86944655 3.82687845]\n",
      "Hello\n"
     ]
    },
    {
     "ename": "KeyboardInterrupt",
     "evalue": "",
     "output_type": "error",
     "traceback": [
      "\u001b[0;31m---------------------------------------------------------------------------\u001b[0m",
      "\u001b[0;31mKeyboardInterrupt\u001b[0m                         Traceback (most recent call last)",
      "\u001b[0;32m<ipython-input-106-1270733e20c6>\u001b[0m in \u001b[0;36m<module>\u001b[0;34m()\u001b[0m\n\u001b[1;32m      5\u001b[0m \u001b[0;34m\u001b[0m\u001b[0m\n\u001b[1;32m      6\u001b[0m \u001b[0;32mfor\u001b[0m \u001b[0mi\u001b[0m \u001b[0;32min\u001b[0m \u001b[0mrange\u001b[0m\u001b[0;34m(\u001b[0m\u001b[0;36m0\u001b[0m\u001b[0;34m,\u001b[0m\u001b[0;36m6040\u001b[0m\u001b[0;34m)\u001b[0m\u001b[0;34m:\u001b[0m\u001b[0;34m\u001b[0m\u001b[0m\n\u001b[0;32m----> 7\u001b[0;31m     \u001b[0mpRatings\u001b[0m \u001b[0;34m=\u001b[0m \u001b[0;34m(\u001b[0m\u001b[0mnp\u001b[0m\u001b[0;34m.\u001b[0m\u001b[0mdot\u001b[0m\u001b[0;34m(\u001b[0m\u001b[0msimilarity\u001b[0m\u001b[0;34m[\u001b[0m\u001b[0mi\u001b[0m\u001b[0;34m]\u001b[0m\u001b[0;34m[\u001b[0m\u001b[0;34m:\u001b[0m\u001b[0;34m]\u001b[0m\u001b[0;34m,\u001b[0m \u001b[0mratings\u001b[0m\u001b[0;34m)\u001b[0m\u001b[0;34m)\u001b[0m\u001b[0;34m\u001b[0m\u001b[0m\n\u001b[0m\u001b[1;32m      8\u001b[0m     \u001b[0;31m#print(np.shape(pRatings))\u001b[0m\u001b[0;34m\u001b[0m\u001b[0;34m\u001b[0m\u001b[0m\n\u001b[1;32m      9\u001b[0m     \u001b[0mtotals\u001b[0m \u001b[0;34m=\u001b[0m \u001b[0mnp\u001b[0m\u001b[0;34m.\u001b[0m\u001b[0mabs\u001b[0m\u001b[0;34m(\u001b[0m\u001b[0mnp\u001b[0m\u001b[0;34m.\u001b[0m\u001b[0msum\u001b[0m\u001b[0;34m(\u001b[0m\u001b[0msimilarity\u001b[0m\u001b[0;34m[\u001b[0m\u001b[0mi\u001b[0m\u001b[0;34m]\u001b[0m\u001b[0;34m[\u001b[0m\u001b[0;34m:\u001b[0m\u001b[0;34m]\u001b[0m\u001b[0;34m*\u001b[0m\u001b[0mbinRatings\u001b[0m\u001b[0;34m[\u001b[0m\u001b[0;34m:\u001b[0m\u001b[0;34m]\u001b[0m\u001b[0;34m[\u001b[0m\u001b[0;34m:\u001b[0m\u001b[0;34m]\u001b[0m\u001b[0;34m,\u001b[0m\u001b[0maxis\u001b[0m \u001b[0;34m=\u001b[0m \u001b[0;36m1\u001b[0m\u001b[0;34m)\u001b[0m\u001b[0;34m)\u001b[0m\u001b[0;34m\u001b[0m\u001b[0m\n",
      "\u001b[0;31mKeyboardInterrupt\u001b[0m: "
     ]
    }
   ],
   "source": [
    "#Normalize and dot product\n",
    "predRatings = np.array((6040,3952))\n",
    "#for all rows in similarity\n",
    "\n",
    "recommendations = np.chararray((6040,1))\n",
    "\n",
    "for i in range(0,6040):\n",
    "    pRatings = (np.dot(similarity[i][:], ratings))\n",
    "    #print(np.shape(pRatings))\n",
    "    totals = np.abs(np.sum(similarity[i][:]*binRatings[:][:],axis = 1))\n",
    "    #print(np.shape(totals))\n",
    "    print(pRatings)\n",
    "    print(totals)\n",
    "    pRatings = np.divide(pRatings,totals)\n",
    "    #np.abs(np.sum(similarity[0][:]*binRatings[:][:]))\n",
    "    #predRatings[i][:] = pRatings\n",
    "    \n",
    "    print(pRatings)\n",
    "    print(\"Hello\")\n",
    "    #print(np.shape(pRatings))\n",
    "    \n",
    "    #find max value for each person\n",
    "    \n",
    "    #find the corresponding movie title\n",
    "    \n",
    "    #Store in a recommendations matrix"
   ]
  }
 ],
 "metadata": {
  "kernelspec": {
   "display_name": "Python 3",
   "language": "python",
   "name": "python3"
  },
  "language_info": {
   "codemirror_mode": {
    "name": "ipython",
    "version": 3
   },
   "file_extension": ".py",
   "mimetype": "text/x-python",
   "name": "python",
   "nbconvert_exporter": "python",
   "pygments_lexer": "ipython3",
   "version": "3.6.5"
  }
 },
 "nbformat": 4,
 "nbformat_minor": 2
}
